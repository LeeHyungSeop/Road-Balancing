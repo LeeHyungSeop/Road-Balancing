{
 "cells": [
  {
   "cell_type": "markdown",
   "metadata": {},
   "source": [
    "# Load Data from CSV file"
   ]
  },
  {
   "cell_type": "markdown",
   "metadata": {},
   "source": [
    "사용된 dataset : https://data.seoul.go.kr/dataList/OA-12252/S/1/datasetView.do"
   ]
  },
  {
   "cell_type": "code",
   "execution_count": 33,
   "metadata": {},
   "outputs": [],
   "source": [
    "import pandas as pd\n",
    "import numpy as np\n",
    "import matplotlib.pyplot as plt"
   ]
  },
  {
   "cell_type": "code",
   "execution_count": 34,
   "metadata": {},
   "outputs": [
    {
     "name": "stdout",
     "output_type": "stream",
     "text": [
      "['Solarize_Light2', '_classic_test_patch', '_mpl-gallery', '_mpl-gallery-nogrid', 'bmh', 'classic', 'dark_background', 'fast', 'fivethirtyeight', 'ggplot', 'grayscale', 'seaborn-v0_8', 'seaborn-v0_8-bright', 'seaborn-v0_8-colorblind', 'seaborn-v0_8-dark', 'seaborn-v0_8-dark-palette', 'seaborn-v0_8-darkgrid', 'seaborn-v0_8-deep', 'seaborn-v0_8-muted', 'seaborn-v0_8-notebook', 'seaborn-v0_8-paper', 'seaborn-v0_8-pastel', 'seaborn-v0_8-poster', 'seaborn-v0_8-talk', 'seaborn-v0_8-ticks', 'seaborn-v0_8-white', 'seaborn-v0_8-whitegrid', 'tableau-colorblind10']\n"
     ]
    }
   ],
   "source": [
    "import matplotlib.pyplot as plt\n",
    "print(plt.style.available)\n",
    "\n",
    "# i picked 'seaborn-v0_8-whitegrid'\n",
    "plt.style.use('seaborn-v0_8-whitegrid')"
   ]
  },
  {
   "cell_type": "code",
   "execution_count": 35,
   "metadata": {},
   "outputs": [
    {
     "name": "stdout",
     "output_type": "stream",
     "text": [
      "Requirement already satisfied: chardet in /home/hslee/anaconda3/lib/python3.11/site-packages (4.0.0)\n"
     ]
    }
   ],
   "source": [
    "!pip install chardet"
   ]
  },
  {
   "cell_type": "code",
   "execution_count": 36,
   "metadata": {},
   "outputs": [
    {
     "name": "stdout",
     "output_type": "stream",
     "text": [
      "{'encoding': 'EUC-KR', 'confidence': 0.99, 'language': 'Korean'}\n"
     ]
    }
   ],
   "source": [
    "import chardet\n",
    "\n",
    "# '서울시 지하철 호선별 역별 시간대별 승하차 인원 정보.csv' 파일의 인코딩 방식을 알아내기\n",
    "with open('서울시 지하철 호선별 역별 시간대별 승하차 인원 정보.csv', 'rb') as f:\n",
    "    result = chardet.detect(f.read())\n",
    "print(result)"
   ]
  },
  {
   "cell_type": "markdown",
   "metadata": {},
   "source": [
    "# Understanding the Data"
   ]
  },
  {
   "cell_type": "code",
   "execution_count": 37,
   "metadata": {},
   "outputs": [
    {
     "data": {
      "text/html": [
       "<div>\n",
       "<style scoped>\n",
       "    .dataframe tbody tr th:only-of-type {\n",
       "        vertical-align: middle;\n",
       "    }\n",
       "\n",
       "    .dataframe tbody tr th {\n",
       "        vertical-align: top;\n",
       "    }\n",
       "\n",
       "    .dataframe thead th {\n",
       "        text-align: right;\n",
       "    }\n",
       "</style>\n",
       "<table border=\"1\" class=\"dataframe\">\n",
       "  <thead>\n",
       "    <tr style=\"text-align: right;\">\n",
       "      <th></th>\n",
       "      <th>사용월</th>\n",
       "      <th>호선명</th>\n",
       "      <th>지하철역</th>\n",
       "      <th>04시-05시 승차인원</th>\n",
       "      <th>04시-05시 하차인원</th>\n",
       "      <th>05시-06시 승차인원</th>\n",
       "      <th>05시-06시 하차인원</th>\n",
       "      <th>06시-07시 승차인원</th>\n",
       "      <th>06시-07시 하차인원</th>\n",
       "      <th>07시-08시 승차인원</th>\n",
       "      <th>...</th>\n",
       "      <th>23시-24시 하차인원</th>\n",
       "      <th>00시-01시 승차인원</th>\n",
       "      <th>00시-01시 하차인원</th>\n",
       "      <th>01시-02시 승차인원</th>\n",
       "      <th>01시-02시 하차인원</th>\n",
       "      <th>02시-03시 승차인원</th>\n",
       "      <th>02시-03시 하차인원</th>\n",
       "      <th>03시-04시 승차인원</th>\n",
       "      <th>03시-04시 하차인원</th>\n",
       "      <th>작업일자</th>\n",
       "    </tr>\n",
       "  </thead>\n",
       "  <tbody>\n",
       "    <tr>\n",
       "      <th>0</th>\n",
       "      <td>202410</td>\n",
       "      <td>1호선</td>\n",
       "      <td>동대문</td>\n",
       "      <td>634</td>\n",
       "      <td>22</td>\n",
       "      <td>12458</td>\n",
       "      <td>1990</td>\n",
       "      <td>10170</td>\n",
       "      <td>7253</td>\n",
       "      <td>16816</td>\n",
       "      <td>...</td>\n",
       "      <td>9969</td>\n",
       "      <td>771</td>\n",
       "      <td>2838</td>\n",
       "      <td>4</td>\n",
       "      <td>231</td>\n",
       "      <td>0</td>\n",
       "      <td>0</td>\n",
       "      <td>0</td>\n",
       "      <td>0</td>\n",
       "      <td>20241103</td>\n",
       "    </tr>\n",
       "    <tr>\n",
       "      <th>1</th>\n",
       "      <td>202410</td>\n",
       "      <td>1호선</td>\n",
       "      <td>동묘앞</td>\n",
       "      <td>223</td>\n",
       "      <td>4</td>\n",
       "      <td>3169</td>\n",
       "      <td>1026</td>\n",
       "      <td>3758</td>\n",
       "      <td>5319</td>\n",
       "      <td>9258</td>\n",
       "      <td>...</td>\n",
       "      <td>4882</td>\n",
       "      <td>106</td>\n",
       "      <td>1831</td>\n",
       "      <td>0</td>\n",
       "      <td>263</td>\n",
       "      <td>0</td>\n",
       "      <td>0</td>\n",
       "      <td>0</td>\n",
       "      <td>0</td>\n",
       "      <td>20241103</td>\n",
       "    </tr>\n",
       "    <tr>\n",
       "      <th>2</th>\n",
       "      <td>202410</td>\n",
       "      <td>1호선</td>\n",
       "      <td>서울역</td>\n",
       "      <td>573</td>\n",
       "      <td>9</td>\n",
       "      <td>8623</td>\n",
       "      <td>9367</td>\n",
       "      <td>14928</td>\n",
       "      <td>61884</td>\n",
       "      <td>42711</td>\n",
       "      <td>...</td>\n",
       "      <td>13969</td>\n",
       "      <td>2848</td>\n",
       "      <td>3802</td>\n",
       "      <td>1</td>\n",
       "      <td>207</td>\n",
       "      <td>0</td>\n",
       "      <td>0</td>\n",
       "      <td>0</td>\n",
       "      <td>0</td>\n",
       "      <td>20241103</td>\n",
       "    </tr>\n",
       "    <tr>\n",
       "      <th>3</th>\n",
       "      <td>202410</td>\n",
       "      <td>1호선</td>\n",
       "      <td>시청</td>\n",
       "      <td>84</td>\n",
       "      <td>1</td>\n",
       "      <td>2078</td>\n",
       "      <td>5753</td>\n",
       "      <td>4249</td>\n",
       "      <td>30299</td>\n",
       "      <td>8265</td>\n",
       "      <td>...</td>\n",
       "      <td>3775</td>\n",
       "      <td>506</td>\n",
       "      <td>979</td>\n",
       "      <td>1</td>\n",
       "      <td>41</td>\n",
       "      <td>0</td>\n",
       "      <td>0</td>\n",
       "      <td>0</td>\n",
       "      <td>0</td>\n",
       "      <td>20241103</td>\n",
       "    </tr>\n",
       "    <tr>\n",
       "      <th>4</th>\n",
       "      <td>202410</td>\n",
       "      <td>1호선</td>\n",
       "      <td>신설동</td>\n",
       "      <td>384</td>\n",
       "      <td>22</td>\n",
       "      <td>9813</td>\n",
       "      <td>2340</td>\n",
       "      <td>10345</td>\n",
       "      <td>10232</td>\n",
       "      <td>22756</td>\n",
       "      <td>...</td>\n",
       "      <td>9779</td>\n",
       "      <td>375</td>\n",
       "      <td>2781</td>\n",
       "      <td>0</td>\n",
       "      <td>1</td>\n",
       "      <td>0</td>\n",
       "      <td>1</td>\n",
       "      <td>0</td>\n",
       "      <td>0</td>\n",
       "      <td>20241103</td>\n",
       "    </tr>\n",
       "  </tbody>\n",
       "</table>\n",
       "<p>5 rows × 52 columns</p>\n",
       "</div>"
      ],
      "text/plain": [
       "      사용월  호선명 지하철역  04시-05시 승차인원  04시-05시 하차인원  05시-06시 승차인원  05시-06시 하차인원  \\\n",
       "0  202410  1호선  동대문           634            22         12458          1990   \n",
       "1  202410  1호선  동묘앞           223             4          3169          1026   \n",
       "2  202410  1호선  서울역           573             9          8623          9367   \n",
       "3  202410  1호선   시청            84             1          2078          5753   \n",
       "4  202410  1호선  신설동           384            22          9813          2340   \n",
       "\n",
       "   06시-07시 승차인원  06시-07시 하차인원  07시-08시 승차인원  ...  23시-24시 하차인원  00시-01시 승차인원  \\\n",
       "0         10170          7253         16816  ...          9969           771   \n",
       "1          3758          5319          9258  ...          4882           106   \n",
       "2         14928         61884         42711  ...         13969          2848   \n",
       "3          4249         30299          8265  ...          3775           506   \n",
       "4         10345         10232         22756  ...          9779           375   \n",
       "\n",
       "   00시-01시 하차인원  01시-02시 승차인원  01시-02시 하차인원  02시-03시 승차인원  02시-03시 하차인원  \\\n",
       "0          2838             4           231             0             0   \n",
       "1          1831             0           263             0             0   \n",
       "2          3802             1           207             0             0   \n",
       "3           979             1            41             0             0   \n",
       "4          2781             0             1             0             1   \n",
       "\n",
       "   03시-04시 승차인원  03시-04시 하차인원      작업일자  \n",
       "0             0             0  20241103  \n",
       "1             0             0  20241103  \n",
       "2             0             0  20241103  \n",
       "3             0             0  20241103  \n",
       "4             0             0  20241103  \n",
       "\n",
       "[5 rows x 52 columns]"
      ]
     },
     "execution_count": 37,
     "metadata": {},
     "output_type": "execute_result"
    }
   ],
   "source": [
    "# read the data (with the encoding)\n",
    "df = pd.read_csv('서울시 지하철 호선별 역별 시간대별 승하차 인원 정보.csv', encoding=result['encoding'])\n",
    "df.head()"
   ]
  },
  {
   "cell_type": "code",
   "execution_count": 38,
   "metadata": {},
   "outputs": [
    {
     "name": "stdout",
     "output_type": "stream",
     "text": [
      "<class 'pandas.core.frame.DataFrame'>\n",
      "RangeIndex: 69931 entries, 0 to 69930\n",
      "Data columns (total 52 columns):\n",
      " #   Column        Non-Null Count  Dtype \n",
      "---  ------        --------------  ----- \n",
      " 0   사용월           69931 non-null  int64 \n",
      " 1   호선명           69931 non-null  object\n",
      " 2   지하철역          69931 non-null  object\n",
      " 3   04시-05시 승차인원  69931 non-null  int64 \n",
      " 4   04시-05시 하차인원  69931 non-null  int64 \n",
      " 5   05시-06시 승차인원  69931 non-null  int64 \n",
      " 6   05시-06시 하차인원  69931 non-null  int64 \n",
      " 7   06시-07시 승차인원  69931 non-null  int64 \n",
      " 8   06시-07시 하차인원  69931 non-null  int64 \n",
      " 9   07시-08시 승차인원  69931 non-null  int64 \n",
      " 10  07시-08시 하차인원  69931 non-null  int64 \n",
      " 11  08시-09시 승차인원  69931 non-null  int64 \n",
      " 12  08시-09시 하차인원  69931 non-null  int64 \n",
      " 13  09시-10시 승차인원  69931 non-null  int64 \n",
      " 14  09시-10시 하차인원  69931 non-null  int64 \n",
      " 15  10시-11시 승차인원  69931 non-null  int64 \n",
      " 16  10시-11시 하차인원  69931 non-null  int64 \n",
      " 17  11시-12시 승차인원  69931 non-null  int64 \n",
      " 18  11시-12시 하차인원  69931 non-null  int64 \n",
      " 19  12시-13시 승차인원  69931 non-null  int64 \n",
      " 20  12시-13시 하차인원  69931 non-null  int64 \n",
      " 21  13시-14시 승차인원  69931 non-null  int64 \n",
      " 22  13시-14시 하차인원  69931 non-null  int64 \n",
      " 23  14시-15시 승차인원  69931 non-null  int64 \n",
      " 24  14시-15시 하차인원  69931 non-null  int64 \n",
      " 25  15시-16시 승차인원  69931 non-null  int64 \n",
      " 26  15시-16시 하차인원  69931 non-null  int64 \n",
      " 27  16시-17시 승차인원  69931 non-null  int64 \n",
      " 28  16시-17시 하차인원  69931 non-null  int64 \n",
      " 29  17시-18시 승차인원  69931 non-null  int64 \n",
      " 30  17시-18시 하차인원  69931 non-null  int64 \n",
      " 31  18시-19시 승차인원  69931 non-null  int64 \n",
      " 32  18시-19시 하차인원  69931 non-null  int64 \n",
      " 33  19시-20시 승차인원  69931 non-null  int64 \n",
      " 34  19시-20시 하차인원  69931 non-null  int64 \n",
      " 35  20시-21시 승차인원  69931 non-null  int64 \n",
      " 36  20시-21시 하차인원  69931 non-null  int64 \n",
      " 37  21시-22시 승차인원  69931 non-null  int64 \n",
      " 38  21시-22시 하차인원  69931 non-null  int64 \n",
      " 39  22시-23시 승차인원  69931 non-null  int64 \n",
      " 40  22시-23시 하차인원  69931 non-null  int64 \n",
      " 41  23시-24시 승차인원  69931 non-null  int64 \n",
      " 42  23시-24시 하차인원  69931 non-null  int64 \n",
      " 43  00시-01시 승차인원  69931 non-null  int64 \n",
      " 44  00시-01시 하차인원  69931 non-null  int64 \n",
      " 45  01시-02시 승차인원  69931 non-null  int64 \n",
      " 46  01시-02시 하차인원  69931 non-null  int64 \n",
      " 47  02시-03시 승차인원  69931 non-null  int64 \n",
      " 48  02시-03시 하차인원  69931 non-null  int64 \n",
      " 49  03시-04시 승차인원  69931 non-null  int64 \n",
      " 50  03시-04시 하차인원  69931 non-null  int64 \n",
      " 51  작업일자          69931 non-null  int64 \n",
      "dtypes: int64(50), object(2)\n",
      "memory usage: 27.7+ MB\n"
     ]
    }
   ],
   "source": [
    "# check the data types\n",
    "df.info()"
   ]
  },
  {
   "cell_type": "code",
   "execution_count": 39,
   "metadata": {},
   "outputs": [
    {
     "name": "stdout",
     "output_type": "stream",
     "text": [
      "총 28개의 호선이 있습니다.\n",
      "['1호선' '2호선' '3호선' '4호선' '5호선' '6호선' '7호선' '8호선' '9호선' '9호선2~3단계' '경강선'\n",
      " '경부선' '경원선' '경의선' '경인선' '경춘선' '공항철도 1호선' '과천선' '분당선' '서해선' '수인선' '신림선'\n",
      " '안산선' '우이신설선' '일산선' '장항선' '중앙선' '9호선2단계']\n",
      "총 598개의 지하철역이 있습니다.\n",
      "['동대문' '동묘앞' '서울역' '시청' '신설동' '제기동' '종각' '종로3가' '종로5가' '청량리(서울시립대입구)' '강남'\n",
      " '강변(동서울터미널)' '건대입구' '교대(법원.검찰청)' '구로디지털단지' '구의(광진구청)' '낙성대(강감찬)' '당산'\n",
      " '대림(구로구청)' '도림천' '동대문역사문화공원(DDP)' '뚝섬' '문래' '방배' '봉천' '사당' '삼성(무역센터)'\n",
      " '상왕십리' '서울대입구(관악구청)' '서초' '선릉' '성수' '신답' '신당' '신대방' '신도림' '신림' '신정네거리'\n",
      " '신촌' '아현' '양천구청' '역삼' '영등포구청' '왕십리(성동구청)' '용답' '용두(동대문구청)' '을지로3가'\n",
      " '을지로4가' '을지로입구' '이대' '잠실(송파구청)' '잠실나루' '잠실새내' '종합운동장' '충정로(경기대입구)' '한양대'\n",
      " '합정' '홍대입구' '가락시장' '경복궁(정부서울청사)' '경찰병원' '고속터미널' '구파발' '금호' '남부터미널(예술의전당)'\n",
      " '녹번' '대청' '대치' '도곡' '독립문' '동대입구' '매봉' '무악재' '불광' '수서' '신사' '안국' '압구정'\n",
      " '약수' '양재(서초구청)' '연신내' '오금' '옥수' '일원' '잠원' '지축' '충무로' '학여울' '홍제' '길음'\n",
      " '남태령' '노원' '당고개' '동작(현충원)' '명동' '미아(서울사이버대학)' '미아사거리' '삼각지' '상계'\n",
      " '성신여대입구(돈암)' '수유(강북구청)' '숙대입구(갈월)' '신용산' '쌍문' '이촌(국립중앙박물관)' '창동'\n",
      " '총신대입구(이수)' '한성대입구(삼선교)' '혜화' '회현(남대문시장)' '강동' '강일' '개롱' '개화산' '거여' '고덕'\n",
      " '공덕' '광나루(장신대)' '광화문(세종문화회관)' '군자(능동)' '굽은다리(강동구민회관앞)' '길동' '김포공항' '까치산'\n",
      " '답십리' '둔촌동' '마곡' '마장' '마천' '마포' '명일' '목동' '미사' '발산' '방이' '방화' '상일동' '서대문'\n",
      " '송정' '신금호' '신길' '신정(은행정)' '아차산(어린이대공원후문)' '애오개' '양평' '여의나루' '여의도' '영등포시장'\n",
      " '오목교(목동운동장앞)' '올림픽공원(한국체대)' '우장산' '장한평' '천호(풍납토성)' '청구' '하남검단산'\n",
      " '하남시청(덕풍?신장)' '하남풍산' '행당' '화곡' '고려대(종암)' '광흥창(서강)' '구산' '녹사평(용산구청)'\n",
      " '대흥(서강대앞)' '독바위' '돌곶이' '디지털미디어시티' '마포구청' '망원' '버티고개' '보문' '봉화산(서울의료원)'\n",
      " '상수' '상월곡(한국과학기술연구원)' '새절(신사)' '석계' '신내' '안암(고대병원앞)' '역촌' '월곡(동덕여대)'\n",
      " '월드컵경기장(성산)' '응암' '이태원' '증산(명지대앞)' '창신' '태릉입구' '한강진' '화랑대(서울여대입구)'\n",
      " '효창공원앞' '가산디지털단지' '강남구청' '공릉(서울과학기술대)' '광명사거리' '남구로' '남성' '내방' '논현' '도봉산'\n",
      " '마들' '먹골' '면목' '반포' '보라매' '사가정' '상도' '상봉' '수락산' '숭실대입구(살피재)' '신대방삼거리'\n",
      " '신풍' '어린이대공원(세종대)' '온수(성공회대입구)' '용마산(용마폭포공원)' '이수' '자양(뚝섬한강공원)' '장승배기'\n",
      " '장암' '중계' '중곡' '중화' '천왕' '철산' '청담' '하계' '학동' '강동구청' '남위례'\n",
      " '남한산성입구(성남법원.검찰청)' '단대오거리' '모란' '몽촌토성(평화의문)' '문정' '복정' '산성' '석촌' '송파'\n",
      " '수진' '신흥' '암사' '암사역사공원' '장지' '가양' '개화' '공항시장' '구반포' '국회의사당' '노들' '노량진'\n",
      " '등촌' '마곡나루(서울식물원)' '사평' '샛강' '선유도' '신논현' '신목동' '신반포' '신방화' '양천향교' '염창'\n",
      " '증미' '흑석(중앙대입구)' '둔촌오륜' '봉은사' '삼성중앙' '삼전' '석촌고분' '선정릉' '송파나루' '언주'\n",
      " '중앙보훈병원' '한성백제' '경기광주' '곤지암' '부발' '삼동' '성남' '세종대왕릉' '신둔도예촌' '여주' '이매'\n",
      " '이천' '초월' '판교' '관악' '광명' '구로' '군포' '금정' '금천구청' '남영' '당정' '대방' '독산' '두정'\n",
      " '명학' '병점' '서동탄' '서정리' '석수' '성균관대' '성환' '세류' '세마' '송탄' '수원' '안양' '영등포'\n",
      " '오산' '오산대' '용산' '의왕' '직산' '진위' '천안' '평택' '평택지제' '화서' '가능' '광운대' '녹양' '녹천'\n",
      " '덕계' '덕정' '도봉' '동두천' '동두천중앙' '망월사' '방학' '보산' '서빙고' '소요산' '신이문' '양주' '연천'\n",
      " '외대앞' '월계' '응봉' '의정부' '전곡' '지행' '청산' '한남' '회룡' '가좌' '강매' '검암' '계양' '곡산'\n",
      " '금릉' '금촌' '능곡' '문산' '백마' '서강대' '수색' '야당' '운정' '운천' '월롱' '일산' '임진강' '탄현'\n",
      " '파주' '풍산' '한국항공대' '행신' '간석' '개봉' '구일' '도원' '도화' '동암' '동인천' '백운' '부개' '부천'\n",
      " '부평' '소사' '송내' '역곡' '오류동' '인천' '제물포' '주안' '중동' '가평' '갈매' '강촌' '굴봉산' '금곡'\n",
      " '김유정' '남춘천' '대성리' '마석' '백양리' '별내' '사릉' '상천' '천마산' '청평' '춘천' '퇴계원' '평내호평'\n",
      " '공항화물청사' '영종' '운서' '인천공항1터미널' '인천공항2터미널' '청라국제도시' '경마공원' '과천' '대공원' '범계'\n",
      " '선바위' '인덕원' '정부과천청사' '평촌' '가천대' '개포동' '구룡' '구성' '기흥' '대모산입구' '망포' '매교'\n",
      " '매탄권선' '미금' '보정' '상갈' '서울숲' '서현' '수내' '수원시청' '신갈' '압구정로데오' '야탑' '영통' '오리'\n",
      " '정자' '죽전' '청명' '태평' '한티' '부천종합운동장' '원종' '고색' '남동인더스파크' '달월' '사리' '소래포구'\n",
      " '송도' '숭의' '신포' '야목' '어천' '연수' '오목천' '원인재' '월곶' '인천논현' '인하대' '호구포'\n",
      " '관악산(서울대)' '당곡' '보라매공원' '보라매병원' '서울대벤처타운' '서울지방병무청' '서원' '고잔' '대야미' '반월'\n",
      " '산본' '상록수' '수리산' '신길온천' '안산' '오이도' '정왕' '중앙' '초지' '한대앞' '4.19민주묘지' '가오리'\n",
      " '북한산보국문' '북한산우이' '삼양' '삼양사거리' '솔밭공원' '솔샘' '정릉' '화계' '대곡' '대화' '마두' '백석'\n",
      " '삼송' '원당' '원흥' '정발산' '주엽' '화정' '배방' '봉명' '신창(순천향대)' '쌍용(나사렛대)' '아산'\n",
      " '온양온천' '탕정' '구리' '국수' '덕소' '도농' '도심' '망우' '신원' '아신' '양수' '양원' '양정' '오빈'\n",
      " '용문' '운길산' '원덕' '중랑' '지평' '팔당' '회기' '상동' '까치울' '부평구청' '신중동' '춘의' '뚝섬유원지'\n",
      " '굴포천' '상봉(시외버스터미널)' '초성리' '화전' '부천시청' '삼산체육관' '지제' '낙성대' '동대문역사문화공원'\n",
      " '용마산' '마곡나루' '인천국제공항' '신천' '청량리(지하)' '강변' '교대' '구의' '대림' '삼성' '서울대입구'\n",
      " '용두' '잠실' '충정로' '경복궁' '남부터미널' '양재' '동작' '미아' '성신여대입구' '숙대입구' '이촌' '총신대입구'\n",
      " '한성대입구' '회현' '광나루' '광화문' '군자' '굽은다리' '신정' '아차산' '오목교' '올림픽공원' '천호' '고려대'\n",
      " '광흥창' '대흥' '상월곡' '새절' '안암' '월곡' '월드컵경기장' '증산' '화랑대' '공릉' '숭실대입구' '어린이대공원'\n",
      " '온수' '남한산성입구' '몽촌토성' '동두천 중앙' '왕십리' '청량리(지상)' '신창' '쌍용동']\n"
     ]
    }
   ],
   "source": [
    "# check the unique values of '호선명'\n",
    "print(f\"총 {df['호선명'].nunique()}개의 호선이 있습니다.\")\n",
    "print(df['호선명'].unique())\n",
    "\n",
    "# check the unique values of '지하철역'\n",
    "print(f\"총 {df['지하철역'].nunique()}개의 지하철역이 있습니다.\")\n",
    "print(df['지하철역'].unique())"
   ]
  },
  {
   "cell_type": "markdown",
   "metadata": {},
   "source": [
    "# Data Preprocessing\n",
    "\n",
    "1. ~역\n",
    "* 어떤 지하철역명은 ~역으로 표기되어있지만, 다른 지하철역명은 ~역으로 표기되어있지 않다. \n",
    "* 이를 통일시키기 위해 역명을 통일시킨다.\n",
    "* 모두 ~역으로 표기되도록 하기 위해 역명 뒤에 '역'을 붙여준다.\n",
    "\n",
    "2. 01시 -> 1시"
   ]
  },
  {
   "cell_type": "markdown",
   "metadata": {},
   "source": [
    "## 1. ~역"
   ]
  },
  {
   "cell_type": "code",
   "execution_count": 72,
   "metadata": {},
   "outputs": [
    {
     "name": "stdout",
     "output_type": "stream",
     "text": [
      "0        동대문역\n",
      "1        동묘앞역\n",
      "2         서울역\n",
      "3         시청역\n",
      "4        신설동역\n",
      "         ... \n",
      "69926    운길산역\n",
      "69927     원덕역\n",
      "69928     중랑역\n",
      "69929     팔당역\n",
      "69930     회기역\n",
      "Name: 지하철역, Length: 69931, dtype: object\n"
     ]
    }
   ],
   "source": [
    "# before preprocessing\n",
    "print(df['지하철역'])"
   ]
  },
  {
   "cell_type": "code",
   "execution_count": 73,
   "metadata": {},
   "outputs": [],
   "source": [
    "# preprecessing\n",
    "df['지하철역'] = df['지하철역'].str.replace('역', '') # remove '역' from the '지하철역' column\n",
    "df['지하철역'] = df['지하철역'] + '역' # add '역' to the '지하철역' column"
   ]
  },
  {
   "cell_type": "code",
   "execution_count": 74,
   "metadata": {},
   "outputs": [
    {
     "name": "stdout",
     "output_type": "stream",
     "text": [
      "0        동대문역\n",
      "1        동묘앞역\n",
      "2         서울역\n",
      "3         시청역\n",
      "4        신설동역\n",
      "         ... \n",
      "69926    운길산역\n",
      "69927     원덕역\n",
      "69928     중랑역\n",
      "69929     팔당역\n",
      "69930     회기역\n",
      "Name: 지하철역, Length: 69931, dtype: object\n"
     ]
    }
   ],
   "source": [
    "# after preprocessing\n",
    "print(df['지하철역'])"
   ]
  },
  {
   "cell_type": "markdown",
   "metadata": {},
   "source": [
    "## 2. 01시 -> 1시"
   ]
  },
  {
   "cell_type": "code",
   "execution_count": 75,
   "metadata": {},
   "outputs": [
    {
     "name": "stdout",
     "output_type": "stream",
     "text": [
      "Index(['사용월', '호선명', '지하철역', '04시-05시 승차인원', '04시-05시 하차인원', '05시-06시 승차인원',\n",
      "       '05시-06시 하차인원', '06시-07시 승차인원', '06시-07시 하차인원', '07시-08시 승차인원',\n",
      "       '07시-08시 하차인원', '08시-09시 승차인원', '08시-09시 하차인원', '09시-10시 승차인원',\n",
      "       '09시-10시 하차인원', '10시-11시 승차인원', '10시-11시 하차인원', '11시-12시 승차인원',\n",
      "       '11시-12시 하차인원', '12시-13시 승차인원', '12시-13시 하차인원', '13시-14시 승차인원',\n",
      "       '13시-14시 하차인원', '14시-15시 승차인원', '14시-15시 하차인원', '15시-16시 승차인원',\n",
      "       '15시-16시 하차인원', '16시-17시 승차인원', '16시-17시 하차인원', '17시-18시 승차인원',\n",
      "       '17시-18시 하차인원', '18시-19시 승차인원', '18시-19시 하차인원', '19시-20시 승차인원',\n",
      "       '19시-20시 하차인원', '20시-21시 승차인원', '20시-21시 하차인원', '21시-22시 승차인원',\n",
      "       '21시-22시 하차인원', '22시-23시 승차인원', '22시-23시 하차인원', '23시-24시 승차인원',\n",
      "       '23시-24시 하차인원', '00시-01시 승차인원', '00시-01시 하차인원', '01시-02시 승차인원',\n",
      "       '01시-02시 하차인원', '02시-03시 승차인원', '02시-03시 하차인원', '03시-04시 승차인원',\n",
      "       '03시-04시 하차인원', '작업일자'],\n",
      "      dtype='object')\n"
     ]
    }
   ],
   "source": [
    "# before preprocessing\n",
    "# column '04시-05시 승차인원' to '4시-5시 승차인원'\n",
    "print(df.columns)"
   ]
  },
  {
   "cell_type": "code",
   "execution_count": 84,
   "metadata": {},
   "outputs": [
    {
     "name": "stdout",
     "output_type": "stream",
     "text": [
      "Index(['사용월', '호선명', '지하철역', '4시-5시 승차인원', '4시-5시 하차인원', '5시-6시 승차인원',\n",
      "       '5시-6시 하차인원', '6시-7시 승차인원', '6시-7시 하차인원', '7시-8시 승차인원', '7시-8시 하차인원',\n",
      "       '8시-9시 승차인원', '8시-9시 하차인원', '9시-10시 승차인원', '9시-10시 하차인원',\n",
      "       '10시-11시 승차인원', '10시-11시 하차인원', '11시-12시 승차인원', '11시-12시 하차인원',\n",
      "       '12시-13시 승차인원', '12시-13시 하차인원', '13시-14시 승차인원', '13시-14시 하차인원',\n",
      "       '14시-15시 승차인원', '14시-15시 하차인원', '15시-16시 승차인원', '15시-16시 하차인원',\n",
      "       '16시-17시 승차인원', '16시-17시 하차인원', '17시-18시 승차인원', '17시-18시 하차인원',\n",
      "       '18시-19시 승차인원', '18시-19시 하차인원', '19시-20시 승차인원', '19시-20시 하차인원',\n",
      "       '20시-21시 승차인원', '20시-21시 하차인원', '21시-22시 승차인원', '21시-22시 하차인원',\n",
      "       '22시-23시 승차인원', '22시-23시 하차인원', '23시-24시 승차인원', '23시-24시 하차인원',\n",
      "       '0시-1시 승차인원', '0시-1시 하차인원', '1시-2시 승차인원', '1시-2시 하차인원', '2시-3시 승차인원',\n",
      "       '2시-3시 하차인원', '3시-4시 승차인원', '3시-4시 하차인원', '작업일자'],\n",
      "      dtype='object')\n"
     ]
    }
   ],
   "source": [
    "# preprocessing\n",
    "\n",
    "df.columns = df.columns.str.replace('00시-01시 승차인원', '0시-1시 승차인원')\n",
    "df.columns = df.columns.str.replace('01시-02시 승차인원', '1시-2시 승차인원')\n",
    "df.columns = df.columns.str.replace('02시-03시 승차인원', '2시-3시 승차인원')\n",
    "df.columns = df.columns.str.replace('03시-04시 승차인원', '3시-4시 승차인원')\n",
    "df.columns = df.columns.str.replace('04시-05시 승차인원', '4시-5시 승차인원')\n",
    "df.columns = df.columns.str.replace('05시-06시 승차인원', '5시-6시 승차인원')\n",
    "df.columns = df.columns.str.replace('06시-07시 승차인원', '6시-7시 승차인원')\n",
    "df.columns = df.columns.str.replace('07시-08시 승차인원', '7시-8시 승차인원')\n",
    "df.columns = df.columns.str.replace('08시-09시 승차인원', '8시-9시 승차인원')\n",
    "df.columns = df.columns.str.replace('09시-10시 승차인원', '9시-10시 승차인원')\n",
    "\n",
    "\n",
    "df.columns = df.columns.str.replace('00시-01시 하차인원', '0시-1시 하차인원')\n",
    "df.columns = df.columns.str.replace('01시-02시 하차인원', '1시-2시 하차인원')\n",
    "df.columns = df.columns.str.replace('02시-03시 하차인원', '2시-3시 하차인원')\n",
    "df.columns = df.columns.str.replace('03시-04시 하차인원', '3시-4시 하차인원')\n",
    "df.columns = df.columns.str.replace('04시-05시 하차인원', '4시-5시 하차인원')\n",
    "df.columns = df.columns.str.replace('05시-06시 하차인원', '5시-6시 하차인원')\n",
    "df.columns = df.columns.str.replace('06시-07시 하차인원', '6시-7시 하차인원')\n",
    "df.columns = df.columns.str.replace('07시-08시 하차인원', '7시-8시 하차인원')\n",
    "df.columns = df.columns.str.replace('08시-09시 하차인원', '8시-9시 하차인원')\n",
    "df.columns = df.columns.str.replace('09시-10시 하차인원', '9시-10시 하차인원')\n",
    "\n",
    "# after preprocessing\n",
    "print(df.columns)"
   ]
  },
  {
   "cell_type": "markdown",
   "metadata": {},
   "source": [
    "# Make Function to plot the custom input data\n",
    "\n",
    "* input : \n",
    "  * line='호선명'(필수X), \n",
    "  * station='역명'(필수), \n",
    "  * eta='예상도착시간'(필수)\n",
    "* output : \n",
    "  * 해당 line, station, eta에 대한 평균, 최대, 최소 승차인원과 하차인원"
   ]
  },
  {
   "cell_type": "code",
   "execution_count": 182,
   "metadata": {},
   "outputs": [],
   "source": [
    "import pandas as pd\n",
    "import matplotlib\n",
    "import matplotlib.pyplot as plt\n",
    "import matplotlib.font_manager as fm\n",
    "\n",
    "# 한글 폰트 사용시 마이너스 깨지는 문제 \n",
    "matplotlib.rcParams['axes.unicode_minus'] = False"
   ]
  },
  {
   "cell_type": "code",
   "execution_count": 184,
   "metadata": {},
   "outputs": [
    {
     "name": "stdout",
     "output_type": "stream",
     "text": [
      "3.8.0\n"
     ]
    },
    {
     "data": {
      "text/plain": [
       "'/home/hslee/.cache/matplotlib'"
      ]
     },
     "execution_count": 184,
     "metadata": {},
     "output_type": "execute_result"
    }
   ],
   "source": [
    "print(matplotlib.__version__)\n",
    "matplotlib.get_cachedir()"
   ]
  },
  {
   "cell_type": "code",
   "execution_count": 186,
   "metadata": {},
   "outputs": [],
   "source": [
    "for i in fm.fontManager.ttflist:\n",
    "    if 'Nanum' in i.name:\n",
    "        print(i.name, i.fname)"
   ]
  },
  {
   "cell_type": "code",
   "execution_count": 179,
   "metadata": {},
   "outputs": [],
   "source": [
    "import platform\n",
    "import matplotlib as mpl\n",
    "    \n",
    "def preprocess_eta(eta) :\n",
    "    # 08시 -> 08시-09시\n",
    "    # 24시 -> 00시-01시\n",
    "    # 00시 -> 00시-01시\n",
    "    if eta == '24시' :\n",
    "        eta = '0시'\n",
    "    eta = eta + '-' + str(int(eta.split('시')[0])+1) + '시'\n",
    "    return eta\n",
    "\n",
    "def get_aggregation_getonoff(line=None, station=None, eta=None) :\n",
    "    '''\n",
    "    input :\n",
    "        line : str, default None (호선명)\n",
    "        station : str, default None (지하철역)\n",
    "        eta : str, default None (예상 도착 시간) 0시~23시\n",
    "    \n",
    "        example : get_aggregation_getonoff(line='1호선', station='종로3가역', eta='8시')\n",
    "        \n",
    "    output :\n",
    "        key : 'max_geton', 'min_geton', 'avg_geton', 'max_getoff', 'min_getoff', 'avg_getoff'\n",
    "    '''    \n",
    "    \n",
    "    \n",
    "    # exception handling\n",
    "    if station == None or eta == None:\n",
    "        return 'Please input station and eta'\n",
    "    if '역' not in station:\n",
    "        station = station + '역'\n",
    "        if station not in df['지하철역'].unique():\n",
    "            return 'Please input the correct station'\n",
    "    \n",
    "    \n",
    "    # filter the data\n",
    "    df_filtered = df[df['지하철역'] == station]\n",
    "    # print(df_filtered)\n",
    "    \n",
    "    # get maximum getonoff value\n",
    "    eta = preprocess_eta(eta)\n",
    "    eta_geton = eta + ' 승차인원'\n",
    "    eta_getoff = eta + ' 하차인원'\n",
    "    \n",
    "    avg_geton = df_filtered[eta_geton].mean()\n",
    "    avg_getoff = df_filtered[eta_getoff].mean()\n",
    "    \n",
    "    print(f'{station} {eta}의 평균 승차인원은 {avg_geton:.2f}명 입니다.')\n",
    "    print(f'{station} {eta}의 평균 하차인원은 {avg_getoff:.2f}명 입니다.')\n",
    "    \n",
    "    # return \n",
    "    return {'평균 승차인원' : avg_geton, '평균 하차인원' : avg_getoff}\n",
    "\n",
    "def plot_aggregation_getonoff(aggregation_getonoff=None, station=None, eta=None) :\n",
    "    # exception handling\n",
    "    if aggregation_getonoff == None:\n",
    "        return 'Please input aggregation_getonoff'\n",
    "    \n",
    "    plt.rcParams[\"font.family\"] = 'NanumGothic'\n",
    "    # mpl.rcParams['axes.unicode_minus'] = False  # 마이너스 폰트 깨짐 방지\n",
    "\n",
    "    \n",
    "    import matplotlib as mpl\n",
    "    mpl.rcParams['axes.unicode_minus'] = False\n",
    "        \n",
    "    # plot\n",
    "    plt.figure(figsize=(10, 5))\n",
    "    # keys : red, values : blue\n",
    "    plt.bar(aggregation_getonoff.keys(), aggregation_getonoff.values(), color=['red', 'blue'])\n",
    "    plt.title(f'{station} {eta} 평균 승하차 인원')\n",
    "    plt.show()"
   ]
  },
  {
   "cell_type": "code",
   "execution_count": 181,
   "metadata": {},
   "outputs": [
    {
     "name": "stdout",
     "output_type": "stream",
     "text": [
      "['/home/hslee/anaconda3/lib/python3.11/site-packages/matplotlib/mpl-data/fonts/ttf/STIXGeneralBolIta.ttf', '/home/hslee/anaconda3/lib/python3.11/site-packages/matplotlib/mpl-data/fonts/ttf/STIXSizTwoSymBol.ttf', '/home/hslee/anaconda3/lib/python3.11/site-packages/matplotlib/mpl-data/fonts/ttf/STIXSizOneSymReg.ttf', '/home/hslee/anaconda3/lib/python3.11/site-packages/matplotlib/mpl-data/fonts/ttf/DejaVuSans.ttf', '/home/hslee/anaconda3/lib/python3.11/site-packages/matplotlib/mpl-data/fonts/ttf/STIXSizOneSymBol.ttf', '/home/hslee/anaconda3/lib/python3.11/site-packages/matplotlib/mpl-data/fonts/ttf/cmr10.ttf', '/home/hslee/anaconda3/lib/python3.11/site-packages/matplotlib/mpl-data/fonts/ttf/STIXNonUniIta.ttf', '/home/hslee/anaconda3/lib/python3.11/site-packages/matplotlib/mpl-data/fonts/ttf/STIXNonUniBolIta.ttf', '/home/hslee/anaconda3/lib/python3.11/site-packages/matplotlib/mpl-data/fonts/ttf/cmss10.ttf', '/home/hslee/anaconda3/lib/python3.11/site-packages/matplotlib/mpl-data/fonts/ttf/cmex10.ttf', '/home/hslee/anaconda3/lib/python3.11/site-packages/matplotlib/mpl-data/fonts/ttf/cmsy10.ttf', '/home/hslee/anaconda3/lib/python3.11/site-packages/matplotlib/mpl-data/fonts/ttf/STIXGeneral.ttf', '/home/hslee/anaconda3/lib/python3.11/site-packages/matplotlib/mpl-data/fonts/ttf/STIXSizFourSymReg.ttf', '/home/hslee/anaconda3/lib/python3.11/site-packages/matplotlib/mpl-data/fonts/ttf/STIXSizThreeSymReg.ttf', '/home/hslee/anaconda3/lib/python3.11/site-packages/matplotlib/mpl-data/fonts/ttf/STIXSizFourSymBol.ttf', '/home/hslee/anaconda3/lib/python3.11/site-packages/matplotlib/mpl-data/fonts/ttf/DejaVuSans-BoldOblique.ttf', '/home/hslee/anaconda3/lib/python3.11/site-packages/matplotlib/mpl-data/fonts/ttf/DejaVuSans-Oblique.ttf', '/home/hslee/anaconda3/lib/python3.11/site-packages/matplotlib/mpl-data/fonts/ttf/DejaVuSerif.ttf', '/home/hslee/anaconda3/lib/python3.11/site-packages/matplotlib/mpl-data/fonts/ttf/cmmi10.ttf', '/home/hslee/anaconda3/lib/python3.11/site-packages/matplotlib/mpl-data/fonts/ttf/DejaVuSansMono-Bold.ttf', '/home/hslee/anaconda3/lib/python3.11/site-packages/matplotlib/mpl-data/fonts/ttf/STIXGeneralBol.ttf', '/home/hslee/anaconda3/lib/python3.11/site-packages/matplotlib/mpl-data/fonts/ttf/DejaVuSerif-Bold.ttf', '/home/hslee/anaconda3/lib/python3.11/site-packages/matplotlib/mpl-data/fonts/ttf/STIXSizFiveSymReg.ttf', '/home/hslee/anaconda3/lib/python3.11/site-packages/matplotlib/mpl-data/fonts/ttf/DejaVuSerif-Italic.ttf', '/home/hslee/anaconda3/lib/python3.11/site-packages/matplotlib/mpl-data/fonts/ttf/STIXNonUni.ttf', '/home/hslee/anaconda3/lib/python3.11/site-packages/matplotlib/mpl-data/fonts/ttf/DejaVuSansDisplay.ttf', '/home/hslee/anaconda3/lib/python3.11/site-packages/matplotlib/mpl-data/fonts/ttf/DejaVuSans-Bold.ttf', '/home/hslee/anaconda3/lib/python3.11/site-packages/matplotlib/mpl-data/fonts/ttf/STIXSizThreeSymBol.ttf', '/home/hslee/anaconda3/lib/python3.11/site-packages/matplotlib/mpl-data/fonts/ttf/DejaVuSansMono-BoldOblique.ttf', '/home/hslee/anaconda3/lib/python3.11/site-packages/matplotlib/mpl-data/fonts/ttf/STIXNonUniBol.ttf', '/home/hslee/anaconda3/lib/python3.11/site-packages/matplotlib/mpl-data/fonts/ttf/STIXGeneralItalic.ttf', '/home/hslee/anaconda3/lib/python3.11/site-packages/matplotlib/mpl-data/fonts/ttf/cmb10.ttf', '/home/hslee/anaconda3/lib/python3.11/site-packages/matplotlib/mpl-data/fonts/ttf/DejaVuSansMono-Oblique.ttf', '/home/hslee/anaconda3/lib/python3.11/site-packages/matplotlib/mpl-data/fonts/ttf/DejaVuSansMono.ttf', '/home/hslee/anaconda3/lib/python3.11/site-packages/matplotlib/mpl-data/fonts/ttf/STIXSizTwoSymReg.ttf', '/home/hslee/anaconda3/lib/python3.11/site-packages/matplotlib/mpl-data/fonts/ttf/DejaVuSerifDisplay.ttf', '/home/hslee/anaconda3/lib/python3.11/site-packages/matplotlib/mpl-data/fonts/ttf/DejaVuSerif-BoldItalic.ttf', '/home/hslee/anaconda3/lib/python3.11/site-packages/matplotlib/mpl-data/fonts/ttf/cmtt10.ttf', '/usr/share/fonts/truetype/padauk/Padauk-Bold.ttf', '/usr/share/fonts/truetype/padauk/PadaukBook-Regular.ttf', '/usr/share/fonts/truetype/freefont/FreeSansBold.ttf', '/usr/share/fonts/opentype/urw-base35/D050000L.otf', '/usr/share/fonts/truetype/ubuntu/UbuntuMono-RI.ttf', '/usr/share/fonts/truetype/kacst/KacstOffice.ttf', '/usr/share/fonts/truetype/padauk/PadaukBook-Bold.ttf', '/usr/share/fonts/opentype/urw-base35/URWBookman-LightItalic.otf', '/usr/share/fonts/truetype/kacst-one/KacstOne.ttf', '/usr/share/fonts/truetype/malayalam/Rachana-Bold.ttf', '/usr/share/fonts/truetype/lohit-bengali/Lohit-Bengali.ttf', '/usr/share/fonts/truetype/liberation2/LiberationSans-Bold.ttf', '/usr/share/fonts/truetype/fonts-gujr-extra/padmaa.ttf', '/usr/share/fonts/opentype/urw-base35/P052-BoldItalic.otf', '/usr/share/fonts/truetype/tlwg/Purisa-Oblique.ttf', '/usr/share/fonts/truetype/tlwg/Umpush-LightOblique.ttf', '/usr/share/fonts/truetype/ttf-khmeros-core/KhmerOS.ttf', '/usr/share/fonts/opentype/urw-base35/NimbusMonoPS-Italic.otf', '/usr/share/fonts/truetype/freefont/FreeSerifBold.ttf', '/usr/share/fonts/truetype/tlwg/Kinnari-Oblique.ttf', '/usr/share/fonts/opentype/noto/NotoSansCJK-Regular.ttc', '/usr/share/fonts/opentype/urw-base35/NimbusSans-Italic.otf', '/usr/share/fonts/truetype/lohit-devanagari/Lohit-Devanagari.ttf', '/usr/share/fonts/truetype/tlwg/Purisa-BoldOblique.ttf', '/usr/share/fonts/truetype/fonts-beng-extra/LikhanNormal.ttf', '/usr/share/fonts/opentype/malayalam/Gayathri-Regular.otf', '/usr/share/fonts/truetype/liberation2/LiberationSerif-Regular.ttf', '/usr/share/fonts/opentype/urw-base35/StandardSymbolsPS.otf', '/usr/share/fonts/truetype/dejavu/DejaVuSansCondensed-BoldOblique.ttf', '/usr/share/fonts/truetype/fonts-gujr-extra/Rekha.ttf', '/usr/share/fonts/truetype/fonts-orya-extra/utkal.ttf', '/usr/share/fonts/truetype/fonts-gujr-extra/aakar-medium.ttf', '/usr/share/fonts/truetype/liberation2/LiberationMono-Bold.ttf', '/usr/share/fonts/truetype/tlwg/Norasi-Oblique.ttf', '/usr/share/fonts/truetype/lohit-punjabi/Lohit-Gurmukhi.ttf', '/usr/share/fonts/truetype/fonts-deva-extra/kalimati.ttf', '/usr/share/fonts/truetype/liberation/LiberationSans-Regular.ttf', '/usr/share/fonts/truetype/tlwg/TlwgTypo-BoldOblique.ttf', '/usr/share/fonts/opentype/urw-base35/NimbusRoman-Regular.otf', '/usr/share/fonts/truetype/dejavu/DejaVuSansMono-Bold.ttf', '/usr/share/fonts/truetype/tlwg/TlwgTypo-Bold.ttf', '/usr/share/fonts/truetype/dejavu/DejaVuSansCondensed-Bold.ttf', '/usr/share/fonts/truetype/ubuntu/Ubuntu-M.ttf', '/usr/share/fonts/truetype/tlwg/TlwgTypewriter-Bold.ttf', '/usr/share/fonts/truetype/tlwg/Garuda-BoldOblique.ttf', '/usr/share/fonts/truetype/ubuntu/Ubuntu-Th.ttf', '/usr/share/fonts/truetype/tlwg/Sawasdee-BoldOblique.ttf', '/usr/share/fonts/truetype/ttf-khmeros-core/KhmerOSsys.ttf', '/usr/share/fonts/truetype/lohit-assamese/Lohit-Assamese.ttf', '/usr/share/fonts/truetype/malayalam/Suruma.ttf', '/usr/share/fonts/truetype/lohit-tamil/Lohit-Tamil.ttf', '/usr/share/fonts/opentype/urw-base35/NimbusRoman-Bold.otf', '/usr/share/fonts/truetype/tlwg/Umpush-Oblique.ttf', '/usr/share/fonts/truetype/malayalam/RaghuMalayalamSans-Regular.ttf', '/usr/share/fonts/opentype/malayalam/Gayathri-Bold.otf', '/usr/share/fonts/truetype/tlwg/Loma.ttf', '/usr/share/fonts/truetype/tlwg/TlwgTypist-Oblique.ttf', '/usr/share/fonts/opentype/malayalam/Chilanka-Regular.otf', '/usr/share/fonts/truetype/tlwg/TlwgTypo.ttf', '/usr/share/fonts/truetype/pagul/Pagul.ttf', '/usr/share/fonts/opentype/urw-base35/NimbusSansNarrow-BoldOblique.otf', '/usr/share/fonts/truetype/tlwg/TlwgTypewriter-BoldOblique.ttf', '/usr/share/fonts/opentype/urw-base35/URWGothic-Demi.otf', '/usr/share/fonts/truetype/tlwg/Loma-Oblique.ttf', '/usr/share/fonts/truetype/samyak/Samyak-Devanagari.ttf', '/usr/share/fonts/truetype/lohit-oriya/Lohit-Odia.ttf', '/usr/share/fonts/truetype/ubuntu/Ubuntu-BI.ttf', '/usr/share/fonts/truetype/dejavu/DejaVuSerifCondensed.ttf', '/usr/share/fonts/truetype/liberation2/LiberationSerif-BoldItalic.ttf', '/usr/share/fonts/truetype/tlwg/TlwgMono-Bold.ttf', '/usr/share/fonts/truetype/samyak-fonts/Samyak-Gujarati.ttf', '/usr/share/fonts/truetype/tlwg/TlwgTypist-BoldOblique.ttf', '/usr/share/fonts/truetype/fonts-gujr-extra/padmaa-Medium-0.5.ttf', '/usr/share/fonts/truetype/dejavu/DejaVuSansCondensed-Oblique.ttf', '/usr/share/fonts/truetype/dejavu/DejaVuSansMono-Oblique.ttf', '/usr/share/fonts/truetype/tibetan-machine/TibetanMachineUni.ttf', '/usr/share/fonts/truetype/liberation2/LiberationMono-Italic.ttf', '/usr/share/fonts/opentype/urw-base35/URWBookman-Demi.otf', '/usr/share/fonts/truetype/tlwg/Norasi-Italic.ttf', '/usr/share/fonts/truetype/liberation/LiberationSansNarrow-Italic.ttf', '/usr/share/fonts/truetype/freefont/FreeMonoOblique.ttf', '/usr/share/fonts/truetype/fonts-guru-extra/Saab.ttf', '/usr/share/fonts/truetype/Gubbi/Gubbi.ttf', '/usr/share/fonts/truetype/liberation/LiberationMono-Bold.ttf', '/usr/share/fonts/truetype/kacst/KacstNaskh.ttf', '/usr/share/fonts/truetype/liberation/LiberationSans-BoldItalic.ttf', '/usr/share/fonts/truetype/kacst/KacstTitle.ttf', '/usr/share/fonts/truetype/liberation/LiberationMono-BoldItalic.ttf', '/usr/share/fonts/truetype/tlwg/Waree-Oblique.ttf', '/usr/share/fonts/opentype/urw-base35/NimbusRoman-BoldItalic.otf', '/usr/share/fonts/truetype/freefont/FreeSansBoldOblique.ttf', '/usr/share/fonts/truetype/freefont/FreeSerif.ttf', '/usr/share/fonts/opentype/malayalam/Gayathri-Thin.otf', '/usr/share/fonts/opentype/urw-base35/NimbusSansNarrow-Regular.otf', '/usr/share/fonts/truetype/Navilu/Navilu.ttf', '/usr/share/fonts/truetype/tlwg/TlwgTypo-Oblique.ttf', '/usr/share/fonts/truetype/freefont/FreeSansOblique.ttf', '/usr/share/fonts/truetype/fonts-yrsa-rasa/Rasa-Bold.ttf', '/usr/share/fonts/truetype/ubuntu/Ubuntu-RI.ttf', '/usr/share/fonts/truetype/ubuntu/Ubuntu-C.ttf', '/usr/share/fonts/truetype/kacst/mry_KacstQurn.ttf', '/usr/share/fonts/truetype/liberation2/LiberationSans-BoldItalic.ttf', '/usr/share/fonts/truetype/liberation2/LiberationSerif-Italic.ttf', '/usr/share/fonts/opentype/urw-base35/NimbusSansNarrow-Oblique.otf', '/usr/share/fonts/truetype/tlwg/Sawasdee-Oblique.ttf', '/usr/share/fonts/truetype/fonts-yrsa-rasa/Rasa-Regular.ttf', '/usr/share/fonts/truetype/lohit-tamil-classical/Lohit-Tamil-Classical.ttf', '/usr/share/fonts/truetype/openoffice/opens___.ttf', '/usr/share/fonts/truetype/samyak-fonts/Samyak-Tamil.ttf', '/usr/share/fonts/truetype/liberation/LiberationSans-Bold.ttf', '/usr/share/fonts/truetype/tlwg/Purisa-Bold.ttf', '/usr/share/fonts/truetype/tlwg/Laksaman-Italic.ttf', '/usr/share/fonts/truetype/tlwg/Laksaman-Bold.ttf', '/usr/share/fonts/truetype/ubuntu/Ubuntu-MI.ttf', '/usr/share/fonts/truetype/freefont/FreeSerifBoldItalic.ttf', '/usr/share/fonts/truetype/kacst/KacstPoster.ttf', '/usr/share/fonts/truetype/fonts-beng-extra/mitra.ttf', '/usr/share/fonts/truetype/Gargi/Gargi.ttf', '/usr/share/fonts/truetype/dejavu/DejaVuSerifCondensed-Bold.ttf', '/usr/share/fonts/truetype/fonts-deva-extra/samanata.ttf', '/usr/share/fonts/truetype/dejavu/DejaVuSerifCondensed-Italic.ttf', '/usr/share/fonts/truetype/tlwg/Waree.ttf', '/usr/share/fonts/truetype/malayalam/AnjaliOldLipi-Regular.ttf', '/usr/share/fonts/truetype/tlwg/Norasi-Bold.ttf', '/usr/share/fonts/truetype/tlwg/Purisa.ttf', '/usr/share/fonts/opentype/urw-base35/NimbusSans-BoldItalic.otf', '/usr/share/fonts/truetype/liberation2/LiberationSans-Italic.ttf', '/usr/share/fonts/truetype/tlwg/TlwgMono.ttf', '/usr/share/fonts/opentype/urw-base35/NimbusSansNarrow-Bold.otf', '/usr/share/fonts/truetype/lohit-telugu/Lohit-Telugu.ttf', '/usr/share/fonts/truetype/ubuntu/Ubuntu-R.ttf', '/usr/share/fonts/opentype/urw-base35/C059-BdIta.otf', '/usr/share/fonts/opentype/urw-base35/NimbusRoman-Italic.otf', '/usr/share/fonts/truetype/kacst/KacstScreen.ttf', '/usr/share/fonts/truetype/fonts-yrsa-rasa/Yrsa-Medium.ttf', '/usr/share/fonts/truetype/dejavu/DejaVuSansMono-BoldOblique.ttf', '/usr/share/fonts/opentype/urw-base35/C059-Roman.otf', '/usr/share/fonts/truetype/dejavu/DejaVuSerif-Italic.ttf', '/usr/share/fonts/truetype/tlwg/Umpush-Light.ttf', '/usr/share/fonts/truetype/dejavu/DejaVuSans-ExtraLight.ttf', '/usr/share/fonts/truetype/tlwg/TlwgTypist.ttf', '/usr/share/fonts/truetype/liberation/LiberationSerif-BoldItalic.ttf', '/usr/share/fonts/truetype/ubuntu/Ubuntu-L.ttf', '/usr/share/fonts/truetype/liberation/LiberationSerif-Italic.ttf', '/usr/share/fonts/opentype/urw-base35/C059-Italic.otf', '/usr/share/fonts/truetype/tlwg/TlwgTypewriter.ttf', '/usr/share/fonts/truetype/fonts-kalapi/Kalapi.ttf', '/usr/share/fonts/truetype/tlwg/Kinnari-BoldOblique.ttf', '/usr/share/fonts/truetype/liberation/LiberationSerif-Bold.ttf', '/usr/share/fonts/truetype/malayalam/Dyuthi-Regular.ttf', '/usr/share/fonts/opentype/noto/NotoSerifCJK-Regular.ttc', '/usr/share/fonts/truetype/fonts-beng-extra/JamrulNormal.ttf', '/usr/share/fonts/truetype/ubuntu/UbuntuMono-R.ttf', '/usr/share/fonts/opentype/malayalam/Manjari-Bold.otf', '/usr/share/fonts/truetype/fonts-yrsa-rasa/Yrsa-Light.ttf', '/usr/share/fonts/truetype/freefont/FreeMonoBoldOblique.ttf', '/usr/share/fonts/truetype/fonts-gujr-extra/padmaa-Bold.1.1.ttf', '/usr/share/fonts/opentype/urw-base35/Z003-MediumItalic.otf', '/usr/share/fonts/opentype/urw-base35/C059-Bold.otf', '/usr/share/fonts/truetype/liberation/LiberationSansNarrow-Bold.ttf', '/usr/share/fonts/opentype/urw-base35/URWGothic-Book.otf', '/usr/share/fonts/opentype/urw-base35/P052-Roman.otf', '/usr/share/fonts/truetype/tlwg/TlwgMono-BoldOblique.ttf', '/usr/share/fonts/truetype/dejavu/DejaVuSans.ttf', '/usr/share/fonts/truetype/dejavu/DejaVuSerif.ttf', '/usr/share/fonts/truetype/liberation/LiberationSerif-Regular.ttf', '/usr/share/fonts/truetype/tlwg/Sawasdee-Bold.ttf', '/usr/share/fonts/truetype/tlwg/Kinnari.ttf', '/usr/share/fonts/truetype/lohit-malayalam/Lohit-Malayalam.ttf', '/usr/share/fonts/truetype/fonts-yrsa-rasa/Rasa-Light.ttf', '/usr/share/fonts/truetype/liberation/LiberationSans-Italic.ttf', '/usr/share/fonts/truetype/ubuntu/UbuntuMono-BI.ttf', '/usr/share/fonts/truetype/tlwg/Norasi.ttf', '/usr/share/fonts/truetype/tlwg/Umpush.ttf', '/usr/share/fonts/truetype/liberation/LiberationSansNarrow-Regular.ttf', '/usr/share/fonts/truetype/malayalam/Uroob-Regular.ttf', '/usr/share/fonts/truetype/kacst/KacstFarsi.ttf', '/usr/share/fonts/truetype/tlwg/Garuda-Bold.ttf', '/usr/share/fonts/truetype/freefont/FreeSerifItalic.ttf', '/usr/share/fonts/truetype/fonts-yrsa-rasa/Yrsa-Bold.ttf', '/usr/share/fonts/opentype/urw-base35/NimbusSans-Regular.otf', '/usr/share/fonts/opentype/urw-base35/URWBookman-Light.otf', '/usr/share/fonts/truetype/liberation/LiberationMono-Italic.ttf', '/usr/share/fonts/opentype/urw-base35/URWGothic-BookOblique.otf', '/usr/share/fonts/truetype/tlwg/Norasi-BoldItalic.ttf', '/usr/share/fonts/truetype/kacst/KacstArt.ttf', '/usr/share/fonts/truetype/tlwg/Loma-Bold.ttf', '/usr/share/fonts/truetype/dejavu/DejaVuSerif-BoldItalic.ttf', '/usr/share/fonts/truetype/abyssinica/AbyssinicaSIL-Regular.ttf', '/usr/share/fonts/truetype/tlwg/TlwgTypist-Bold.ttf', '/usr/share/fonts/truetype/tlwg/Garuda.ttf', '/usr/share/fonts/truetype/ubuntu/Ubuntu-B.ttf', '/usr/share/fonts/truetype/liberation2/LiberationSans-Regular.ttf', '/usr/share/fonts/truetype/tlwg/Laksaman.ttf', '/usr/share/fonts/truetype/fonts-beng-extra/MuktiNarrow.ttf', '/usr/share/fonts/truetype/freefont/FreeMono.ttf', '/usr/share/fonts/truetype/padauk/Padauk-Regular.ttf', '/usr/share/fonts/truetype/kacst/KacstQurn.ttf', '/usr/share/fonts/truetype/Sahadeva/sahadeva.ttf', '/usr/share/fonts/truetype/tlwg/Waree-BoldOblique.ttf', '/usr/share/fonts/truetype/tlwg/Sawasdee.ttf', '/usr/share/fonts/truetype/fonts-yrsa-rasa/Yrsa-Regular.ttf', '/usr/share/fonts/truetype/tlwg/Loma-BoldOblique.ttf', '/usr/share/fonts/truetype/tlwg/Waree-Bold.ttf', '/usr/share/fonts/truetype/ubuntu/UbuntuMono-B.ttf', '/usr/share/fonts/truetype/fonts-yrsa-rasa/Rasa-Medium.ttf', '/usr/share/fonts/truetype/kacst-one/KacstOne-Bold.ttf', '/usr/share/fonts/truetype/noto/NotoMono-Regular.ttf', '/usr/share/fonts/truetype/fonts-beng-extra/MuktiNarrowBold.ttf', '/usr/share/fonts/opentype/urw-base35/NimbusMonoPS-Regular.otf', '/usr/share/fonts/truetype/liberation/LiberationSansNarrow-BoldItalic.ttf', '/usr/share/fonts/truetype/malayalam/Keraleeyam-Regular.ttf', '/usr/share/fonts/truetype/dejavu/DejaVuSansCondensed.ttf', '/usr/share/fonts/truetype/tlwg/Kinnari-Bold.ttf', '/usr/share/fonts/truetype/tlwg/TlwgMono-Oblique.ttf', '/usr/share/fonts/truetype/malayalam/Meera-Regular.ttf', '/usr/share/fonts/truetype/liberation2/LiberationMono-Regular.ttf', '/usr/share/fonts/truetype/kacst/KacstBook.ttf', '/usr/share/fonts/truetype/fonts-yrsa-rasa/Rasa-SemiBold.ttf', '/usr/share/fonts/truetype/tlwg/TlwgTypewriter-Oblique.ttf', '/usr/share/fonts/truetype/liberation2/LiberationSerif-Bold.ttf', '/usr/share/fonts/truetype/Nakula/nakula.ttf', '/usr/share/fonts/truetype/malayalam/Karumbi-Regular.ttf', '/usr/share/fonts/truetype/fonts-beng-extra/ani.ttf', '/usr/share/fonts/opentype/urw-base35/NimbusSans-Bold.otf', '/usr/share/fonts/opentype/malayalam/Manjari-Regular.otf', '/usr/share/fonts/truetype/liberation2/LiberationMono-BoldItalic.ttf', '/usr/share/fonts/truetype/kacst/KacstTitleL.ttf', '/usr/share/fonts/truetype/fonts-deva-extra/chandas1-2.ttf', '/usr/share/fonts/truetype/kacst/KacstLetter.ttf', '/usr/share/fonts/opentype/urw-base35/NimbusMonoPS-BoldItalic.otf', '/usr/share/fonts/truetype/lao/Phetsarath_OT.ttf', '/usr/share/fonts/truetype/kacst/KacstDecorative.ttf', '/usr/share/fonts/truetype/dejavu/DejaVuSansMono.ttf', '/usr/share/fonts/truetype/malayalam/Rachana-Regular.ttf', '/usr/share/fonts/truetype/dejavu/DejaVuSans-Bold.ttf', '/usr/share/fonts/truetype/dejavu/DejaVuSans-Oblique.ttf', '/usr/share/fonts/truetype/fonts-telu-extra/vemana2000.ttf', '/usr/share/fonts/truetype/freefont/FreeSans.ttf', '/usr/share/fonts/opentype/urw-base35/P052-Italic.otf', '/usr/share/fonts/opentype/noto/NotoSerifCJK-Bold.ttc', '/usr/share/fonts/truetype/fonts-telu-extra/Pothana2000.ttf', '/usr/share/fonts/truetype/samyak-fonts/Samyak-Malayalam.ttf', '/usr/share/fonts/truetype/kacst/KacstDigital.ttf', '/usr/share/fonts/truetype/tlwg/Kinnari-BoldItalic.ttf', '/usr/share/fonts/truetype/tlwg/Umpush-BoldOblique.ttf', '/usr/share/fonts/truetype/liberation/LiberationMono-Regular.ttf', '/usr/share/fonts/opentype/urw-base35/P052-Bold.otf', '/usr/share/fonts/opentype/urw-base35/URWGothic-DemiOblique.otf', '/usr/share/fonts/truetype/kacst/KacstPen.ttf', '/usr/share/fonts/truetype/droid/DroidSansFallbackFull.ttf', '/usr/share/fonts/truetype/ubuntu/Ubuntu-LI.ttf', '/usr/share/fonts/truetype/tlwg/Kinnari-Italic.ttf', '/usr/share/fonts/opentype/urw-base35/URWBookman-DemiItalic.otf', '/usr/share/fonts/truetype/tlwg/Laksaman-BoldItalic.ttf', '/usr/share/fonts/opentype/urw-base35/NimbusMonoPS-Bold.otf', '/usr/share/fonts/truetype/dejavu/DejaVuSerif-Bold.ttf', '/usr/share/fonts/truetype/tlwg/Norasi-BoldOblique.ttf', '/usr/share/fonts/truetype/freefont/FreeMonoBold.ttf', '/usr/share/fonts/truetype/dejavu/DejaVuSans-BoldOblique.ttf', '/usr/share/fonts/truetype/dejavu/DejaVuMathTeXGyre.ttf', '/usr/share/fonts/truetype/dejavu/DejaVuSerifCondensed-BoldItalic.ttf', '/usr/share/fonts/opentype/noto/NotoSansCJK-Bold.ttc', '/usr/share/fonts/truetype/sinhala/lklug.ttf', '/usr/share/fonts/truetype/lohit-gujarati/Lohit-Gujarati.ttf', '/usr/share/fonts/truetype/tlwg/Garuda-Oblique.ttf', '/usr/share/fonts/opentype/malayalam/Manjari-Thin.otf', '/usr/share/fonts/truetype/fonts-yrsa-rasa/Yrsa-SemiBold.ttf', '/usr/share/fonts/truetype/Sarai/Sarai.ttf', '/usr/share/fonts/truetype/lohit-kannada/Lohit-Kannada.ttf', '/usr/share/fonts/truetype/tlwg/Umpush-Bold.ttf']\n"
     ]
    }
   ],
   "source": [
    "import matplotlib.font_manager\n",
    "print([f.fname for f in matplotlib.font_manager.fontManager.ttflist])"
   ]
  },
  {
   "cell_type": "code",
   "execution_count": 180,
   "metadata": {},
   "outputs": [
    {
     "name": "stderr",
     "output_type": "stream",
     "text": [
      "findfont: Font family 'NanumGothic' not found.\n",
      "findfont: Font family 'NanumGothic' not found.\n",
      "findfont: Font family 'NanumGothic' not found.\n",
      "findfont: Font family 'NanumGothic' not found.\n",
      "findfont: Font family 'NanumGothic' not found.\n",
      "findfont: Font family 'NanumGothic' not found.\n",
      "findfont: Font family 'NanumGothic' not found.\n",
      "findfont: Font family 'NanumGothic' not found.\n",
      "findfont: Font family 'NanumGothic' not found.\n",
      "findfont: Font family 'NanumGothic' not found.\n",
      "findfont: Font family 'NanumGothic' not found.\n",
      "findfont: Font family 'NanumGothic' not found.\n",
      "findfont: Font family 'NanumGothic' not found.\n",
      "findfont: Font family 'NanumGothic' not found.\n",
      "findfont: Font family 'NanumGothic' not found.\n",
      "findfont: Font family 'NanumGothic' not found.\n",
      "findfont: Font family 'NanumGothic' not found.\n",
      "findfont: Font family 'NanumGothic' not found.\n",
      "findfont: Font family 'NanumGothic' not found.\n",
      "findfont: Font family 'NanumGothic' not found.\n",
      "findfont: Font family 'NanumGothic' not found.\n",
      "findfont: Font family 'NanumGothic' not found.\n",
      "findfont: Font family 'NanumGothic' not found.\n",
      "findfont: Font family 'NanumGothic' not found.\n",
      "findfont: Font family 'NanumGothic' not found.\n",
      "findfont: Font family 'NanumGothic' not found.\n",
      "findfont: Font family 'NanumGothic' not found.\n",
      "findfont: Font family 'NanumGothic' not found.\n"
     ]
    },
    {
     "name": "stdout",
     "output_type": "stream",
     "text": [
      "야당역 18시-19시의 평균 승차인원은 8706.75명 입니다.\n",
      "야당역 18시-19시의 평균 하차인원은 21459.41명 입니다.\n",
      "{'평균 승차인원': 8706.752293577982, '평균 하차인원': 21459.4128440367}\n"
     ]
    },
    {
     "data": {
      "image/png": "[encoded data removed]",
      "text/plain": [
       "<Figure size 1000x500 with 1 Axes>"
      ]
     },
     "metadata": {},
     "output_type": "display_data"
    }
   ],
   "source": [
    "line = '경의중앙선'\n",
    "station = '야당역'\n",
    "eta = '18시'\n",
    "\n",
    "\n",
    "aggregation_getonoff = get_aggregation_getonoff(line=line, station=station, eta=eta)\n",
    "print(aggregation_getonoff)\n",
    "\n",
    "plot_aggregation_getonoff(aggregation_getonoff, station=station, eta=eta)"
   ]
  },
  {
   "cell_type": "markdown",
   "metadata": {},
   "source": []
  },
  {
   "cell_type": "code",
   "execution_count": null,
   "metadata": {},
   "outputs": [],
   "source": [
    "def plot"
   ]
  },
  {
   "cell_type": "markdown",
   "metadata": {},
   "source": [
    "# Design for Prediction Model\n",
    "\n",
    "버스 승하차 인원 예측 모델\n",
    "\n",
    "* input : '호선명', '지하철역', 'a시-a+1시'\n",
    "* output : 'a시-a+1시'의 승차인원 예측값, 'a시-a+1시'의 하차인원 예측값"
   ]
  },
  {
   "cell_type": "markdown",
   "metadata": {},
   "source": [
    "향후 필요한 개발\n",
    "\n",
    "* 지하철 역별로 유동인구 예측 모델 개발 및 학습\n",
    "* 지하철 뿐만 아니라 버스에 대한 유동량 예측도 가능해야 함"
   ]
  }
 ],
 "metadata": {
  "kernelspec": {
   "display_name": "base",
   "language": "python",
   "name": "python3"
  },
  "language_info": {
   "codemirror_mode": {
    "name": "ipython",
    "version": 3
   },
   "file_extension": ".py",
   "mimetype": "text/x-python",
   "name": "python",
   "nbconvert_exporter": "python",
   "pygments_lexer": "ipython3",
   "version": "3.11.5"
  }
 },
 "nbformat": 4,
 "nbformat_minor": 2
}
